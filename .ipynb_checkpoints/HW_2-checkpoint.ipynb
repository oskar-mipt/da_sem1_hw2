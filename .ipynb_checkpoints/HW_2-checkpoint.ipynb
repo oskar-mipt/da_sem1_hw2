{
 "cells": [
  {
   "cell_type": "markdown",
   "metadata": {},
   "source": [
    "# Галиаскаров Оскар Владимир Ирекович "
   ]
  },
  {
   "cell_type": "markdown",
   "metadata": {},
   "source": [
    "# Домашнее задание по курсу анализа данных # 2\n",
    "Версия от 14.11.2021\n",
    "\n",
    "Всего 50 баллов = 50 основных + 10 дополнительных\n",
    "\n",
    "**Оценка**  = (Количество баллов за работу*2 + 20)/10\n",
    "\n",
    "**Мягкий дедлайн: 06.12.2021  23:59**\n",
    "\n",
    "**Жесткий дедлайн: 11.12.2021  23:59**\n",
    "\n",
    "Присылать решение ссылкой на ваш **github** в телеграмм **@Aleron75** или на почту **milenkin.aa@phystech.edu**\n",
    "\n",
    "**Автор:** Миленькин Александр"
   ]
  },
  {
   "cell_type": "markdown",
   "metadata": {},
   "source": [
    "# Парсим рейтинг преподавателей с Вики-Физтех"
   ]
  },
  {
   "cell_type": "markdown",
   "metadata": {},
   "source": [
    "<div class=\"alert alert-info\">\n",
    "    \n",
    "Итак, перед вами **VIKI-MIPT** - сборник отзывов о кафедрах и преподавателях МФТИ: ` http://wikimipt.org/wiki/ `\n",
    "\n",
    "Эта кладезь отзывов не раз давала студентам оценить психологический портрет потенциальных экзаменаторов и преподавателей. \n",
    "    \n",
    "    \n",
    "<img src=\"../lessons/images/wiki_mipt_front.PNG\" height=\"300\" width=\"1300\"> \n",
    "\n"
   ]
  },
  {
   "cell_type": "markdown",
   "metadata": {},
   "source": [
    "# Описание задачи: "
   ]
  },
  {
   "cell_type": "markdown",
   "metadata": {},
   "source": [
    "**Задача** - собрать данные по всем текущим преподавателям всех `институтских кафедр` МФТИ.\n",
    "\n",
    "Собранный датасет должен представлять из себя `.csv` файл со следующими полями:\n",
    "\n",
    "* `full_name` - ФИО преподавателя\n",
    "* `birth_day` - Дата рождения преподавателя\n",
    "*  `teach_place` - Кафедра\n",
    "*  `degree`- Ученая Степень\n",
    "* `knowledge` - Знания\n",
    "*  `teaching_skill` - Умение преподавать\t\n",
    "* `commication_skill` - В общении\t\n",
    "* `easy_exam` - «Халявность»\t\n",
    "* `overall_score` - Общая оценка"
   ]
  },
  {
   "cell_type": "markdown",
   "metadata": {},
   "source": [
    "<img src=\"../lessons/images/wiki_mipt_info.PNG\" height=\"300\" width=\"300\"> \n",
    "\n",
    "**Комментарий:** - Знание, умение преподавать, в общение, \"Халявность\" и Общая оценка можно найти странице каждого преподавателя. "
   ]
  },
  {
   "cell_type": "markdown",
   "metadata": {},
   "source": [
    "<div class=\"alert alert-warning\">\n",
    "    \n",
    "Финальный балл складывается из трех частей:\n",
    "\n",
    "* Cобранный датасет (выложить архивом на гитхаб)\n",
    "* python кода, которым был собран датасет (выложить на гитхаб)\n",
    "* Окуратный и понятный код с комментариями\n",
    "    \n",
    "    \n",
    "**Дополнительные + 10 баллов можно получить за кластеризацию преподавателей, используя только оценки из собранных данных**"
   ]
  },
  {
   "cell_type": "markdown",
   "metadata": {},
   "source": [
    "## Решение"
   ]
  },
  {
   "cell_type": "code",
   "execution_count": 27,
   "metadata": {
    "ExecuteTime": {
     "end_time": "2021-12-14T08:45:55.731013Z",
     "start_time": "2021-12-14T08:45:55.724007Z"
    }
   },
   "outputs": [],
   "source": [
    "import requests\n",
    "from bs4 import BeautifulSoup\n",
    "from tqdm import tqdm_notebook\n",
    "import pandas as pd\n",
    "\n",
    "base_url = 'http://wikimipt.org/'\n",
    "main_url = \"http://wikimipt.org/wiki/%D0%97%D0%B0%D0%B3%D0%BB%D0%B0%D0%B2%D0%BD%D0%B0%D1%8F_%D1%81%D1%82%D1%80%D0%B0%D0%BD%D0%B8%D1%86%D0%B0\""
   ]
  },
  {
   "cell_type": "code",
   "execution_count": 30,
   "metadata": {
    "ExecuteTime": {
     "end_time": "2021-12-14T08:46:29.634596Z",
     "start_time": "2021-12-14T08:46:29.628581Z"
    }
   },
   "outputs": [],
   "source": [
    "# Формируем список url кафедр\n",
    "\n",
    "r = requests.get(main_url)\n",
    "soup = BeautifulSoup(r.text, 'lxml')\n",
    "\n",
    "department_list = soup\\\n",
    "    .find('div', class_=\"mw-content-ltr\")\\\n",
    "    .find('div',style=\"-moz-column-count:3; column-count:3; -webkit-column-count:3\")\\\n",
    "    .find_all('a')\n",
    "\n",
    "department_url_list = [base_url[:-1]+i.get('href') for i in department_list]\n"
   ]
  },
  {
   "cell_type": "markdown",
   "metadata": {},
   "source": [
    "Прогоним по циклу: по кафедрам, по преподавателям (текущим) соибраем инфо"
   ]
  },
  {
   "cell_type": "code",
   "execution_count": 122,
   "metadata": {
    "ExecuteTime": {
     "end_time": "2021-12-14T11:11:43.219826Z",
     "start_time": "2021-12-14T11:11:22.250149Z"
    },
    "scrolled": true
   },
   "outputs": [
    {
     "name": "stdout",
     "output_type": "stream",
     "text": [
      "Skipped: http://wikimipt.org/wiki/%D0%A1%D0%BB%D1%83%D0%B6%D0%B5%D0%B1%D0%BD%D0%B0%D1%8F:FormEdit/Кафедра/%D0%9A%D0%B0%D1%84%D0%B5%D0%B4%D1%80%D0%B0_%D0%B1%D0%B8%D0%BE%D1%84%D0%B8%D0%B7%D0%B8%D0%BA%D0%B8_%D0%B8_%D1%8D%D0%BA%D0%BE%D0%BB%D0%BE%D0%B3%D0%B8%D0%B8?redlink=1\n",
      "Кафедра системного анализа экономики\n"
     ]
    },
    {
     "name": "stderr",
     "output_type": "stream",
     "text": [
      "<ipython-input-122-0f142116618f>:23: TqdmDeprecationWarning: This function will be removed in tqdm==5.0.0\n",
      "Please use `tqdm.notebook.tqdm` instead of `tqdm.tqdm_notebook`\n",
      "  for teacher in tqdm_notebook(teacher_url_list):\n"
     ]
    },
    {
     "data": {
      "application/vnd.jupyter.widget-view+json": {
       "model_id": "e902eae016044ba188066d3e2671ab48",
       "version_major": 2,
       "version_minor": 0
      },
      "text/plain": [
       "  0%|          | 0/18 [00:00<?, ?it/s]"
      ]
     },
     "metadata": {},
     "output_type": "display_data"
    },
    {
     "name": "stdout",
     "output_type": "stream",
     "text": [
      "Военная кафедра\n"
     ]
    },
    {
     "data": {
      "application/vnd.jupyter.widget-view+json": {
       "model_id": "9c6e9590b9eb43c38ab59970894330bf",
       "version_major": 2,
       "version_minor": 0
      },
      "text/plain": [
       "  0%|          | 0/4 [00:00<?, ?it/s]"
      ]
     },
     "metadata": {},
     "output_type": "display_data"
    },
    {
     "name": "stdout",
     "output_type": "stream",
     "text": [
      "Кафедра философии\n"
     ]
    },
    {
     "data": {
      "application/vnd.jupyter.widget-view+json": {
       "model_id": "a7b0decbdc434fe98051c625aaf1f669",
       "version_major": 2,
       "version_minor": 0
      },
      "text/plain": [
       "  0%|          | 0/8 [00:00<?, ?it/s]"
      ]
     },
     "metadata": {},
     "output_type": "display_data"
    },
    {
     "name": "stdout",
     "output_type": "stream",
     "text": [
      "Высшая школа системного инжиниринга\n"
     ]
    },
    {
     "data": {
      "application/vnd.jupyter.widget-view+json": {
       "model_id": "afe738303b8d49d993021118b7a3d9ba",
       "version_major": 2,
       "version_minor": 0
      },
      "text/plain": [
       "  0%|          | 0/1 [00:00<?, ?it/s]"
      ]
     },
     "metadata": {},
     "output_type": "display_data"
    }
   ],
   "source": [
    "info = [] # для записи результатов\n",
    "\n",
    "for department in department_url_list: # Цикл по url кафедр\n",
    "    \n",
    "    soup_page = BeautifulSoup(requests.get(department).text, 'lxml') # Преобразуем в объект BeautifulSoup\n",
    "    \n",
    "    # Бывают списки преподавателей 2х типов, как у Кафедры высшей математики или как у Кафедры общей химии,\n",
    "    # Проверяем тип, в зависимости от этого действуем по-разному, но если не тот ни другой вариант - пропускаем, \n",
    "    # как с Кафедрой биофизики и экологии\n",
    "    if len(soup_page.find_all('div',class_=\"srf-gallery srf-redirect\")) > 0: \n",
    "        teacher_list = [i for i in soup_page\\\n",
    "             .find('div',class_=\"srf-gallery srf-redirect\")\\\n",
    "             .find_all('a') if ('image' not in i.get('class',[]))]\n",
    "    elif len(soup_page.find_all('div',style=\"-moz-column-count:3; column-count:3; -webkit-column-count:3\")) > 0:\n",
    "        teacher_list = soup_page\\\n",
    "            .find('div', style=\"-moz-column-count:3; column-count:3; -webkit-column-count:3\")\\\n",
    "            .find_all('a')\n",
    "    else: \n",
    "        print('Skipped:',department)\n",
    "        continue\n",
    "    \n",
    "    teacher_url_list = [base_url[:-1]+i.get('href') for i in teacher_list] # Формируем URL преподавателей\n",
    "    teacher_ext_fio_list = [i.get('title') for i in teacher_list] # На всякий сформируем список ФИО\n",
    "    department_name = soup_page.find('div',class_='mw-body').find('h1',class_='firstHeading').text # Зафиксируем кафедру\n",
    "    print(department_name)\n",
    "\n",
    "    for teacher in tqdm_notebook(teacher_url_list): # Цикл по url преподавателей\n",
    "        soup_teacher_page = BeautifulSoup(requests.get(teacher).text, 'lxml') # Преобразуем в объект BeautifulSoup\n",
    "        \n",
    "        # Собиреам доступное инфо: рейтинги, Дата рождения и Учёная степень, ФИО, кафедру\n",
    "        rating_info = {i.find('input').get('tag'):i.find('span',class_='starrating-avg').text   for i in soup_teacher_page.find_all('div',class_='starrating-div')}\n",
    "        common_info = {i.find('th').text:i.find('td').text for i in soup_teacher_page.find('table',class_='wikitable card').find_all('tr') \n",
    "             if ('Дата рождения' in i.text) or ('Учёная степень' in i.text)}\n",
    "        full_info = {**rating_info,**common_info}\n",
    "        full_info['fio'] = soup_teacher_page.find('div',class_='mw-body').find('h1',class_='firstHeading').text\n",
    "        full_info['department'] = department_name\n",
    "\n",
    "        info.append(full_info)"
   ]
  },
  {
   "cell_type": "code",
   "execution_count": 125,
   "metadata": {
    "ExecuteTime": {
     "end_time": "2021-12-14T11:12:31.311405Z",
     "start_time": "2021-12-14T11:12:31.294389Z"
    }
   },
   "outputs": [],
   "source": [
    "# Запишем в пандас\n",
    "df = pd.DataFrame(info)"
   ]
  },
  {
   "cell_type": "code",
   "execution_count": 140,
   "metadata": {
    "ExecuteTime": {
     "end_time": "2021-12-14T11:18:13.315958Z",
     "start_time": "2021-12-14T11:18:13.304957Z"
    }
   },
   "outputs": [],
   "source": [
    "# Поменяем местами колоинки, переименуем, как требуется, подкорректируем поля\n",
    "df = df[['fio',' Дата рождения\\n','department',' Учёная степень\\n','Expert','Instructor','Communication','Freebie','Total',]]\n",
    "df.columns = ['full_name','birth_day','teach_place','degree','knowledge','teaching_skill','commication_skill','easy_exam','overall_score',]\n",
    "\n",
    "def prettify_column(s):\n",
    "    # Убираем пробелы по бокам, убирем символ \\n\n",
    "    return s.str.lstrip().str.rstrip().replace('\\n','')\n",
    "    \n",
    "for col in df.columns:\n",
    "    df[col] = prettify_column(df[col])"
   ]
  },
  {
   "cell_type": "code",
   "execution_count": 142,
   "metadata": {
    "ExecuteTime": {
     "end_time": "2021-12-14T11:18:25.752729Z",
     "start_time": "2021-12-14T11:18:25.736715Z"
    }
   },
   "outputs": [
    {
     "data": {
      "text/html": [
       "<div>\n",
       "<style scoped>\n",
       "    .dataframe tbody tr th:only-of-type {\n",
       "        vertical-align: middle;\n",
       "    }\n",
       "\n",
       "    .dataframe tbody tr th {\n",
       "        vertical-align: top;\n",
       "    }\n",
       "\n",
       "    .dataframe thead th {\n",
       "        text-align: right;\n",
       "    }\n",
       "</style>\n",
       "<table border=\"1\" class=\"dataframe\">\n",
       "  <thead>\n",
       "    <tr style=\"text-align: right;\">\n",
       "      <th></th>\n",
       "      <th>full_name</th>\n",
       "      <th>birth_day</th>\n",
       "      <th>teach_place</th>\n",
       "      <th>degree</th>\n",
       "      <th>knowledge</th>\n",
       "      <th>teaching_skill</th>\n",
       "      <th>commication_skill</th>\n",
       "      <th>easy_exam</th>\n",
       "      <th>overall_score</th>\n",
       "    </tr>\n",
       "  </thead>\n",
       "  <tbody>\n",
       "    <tr>\n",
       "      <th>0</th>\n",
       "      <td>Агаханов Назар Хангельдыевич</td>\n",
       "      <td>25 июня 1954</td>\n",
       "      <td>Кафедра высшей математики</td>\n",
       "      <td>Кандидат физико-математических наук (1988)</td>\n",
       "      <td>4.86 ( 51 голос )</td>\n",
       "      <td>4.77 ( 48 голосов )</td>\n",
       "      <td>4.79 ( 52 голоса )</td>\n",
       "      <td>4.25 ( 48 голосов )</td>\n",
       "      <td>4.79 ( 53 голоса )</td>\n",
       "    </tr>\n",
       "    <tr>\n",
       "      <th>1</th>\n",
       "      <td>Агаханова Яна Сергеевна</td>\n",
       "      <td>NaN</td>\n",
       "      <td>Кафедра высшей математики</td>\n",
       "      <td>Кандидат физико-математических наук (2007)</td>\n",
       "      <td>4.51 ( 53 голоса )</td>\n",
       "      <td>4.63 ( 49 голосов )</td>\n",
       "      <td>4.85 ( 60 голосов )</td>\n",
       "      <td>4.81 ( 63 голоса )</td>\n",
       "      <td>4.81 ( 54 голоса )</td>\n",
       "    </tr>\n",
       "    <tr>\n",
       "      <th>2</th>\n",
       "      <td>Алексеев Василий Антонович</td>\n",
       "      <td>NaN</td>\n",
       "      <td>Кафедра высшей математики</td>\n",
       "      <td>NaN</td>\n",
       "      <td>4.67 ( 6 голосов )</td>\n",
       "      <td>4.33 ( 6 голосов )</td>\n",
       "      <td>4.5 ( 6 голосов )</td>\n",
       "      <td>4.17 ( 6 голосов )</td>\n",
       "      <td>4.67 ( 6 голосов )</td>\n",
       "    </tr>\n",
       "    <tr>\n",
       "      <th>3</th>\n",
       "      <td>Амосов Григорий Геннадьевич</td>\n",
       "      <td>27 ноября 1972</td>\n",
       "      <td>Кафедра высшей математики</td>\n",
       "      <td>Доктор физико-математических наук</td>\n",
       "      <td>4.42 ( 12 голосов )</td>\n",
       "      <td>3.42 ( 12 голосов )</td>\n",
       "      <td>4.33 ( 15 голосов )</td>\n",
       "      <td>4.44 ( 16 голосов )</td>\n",
       "      <td>4 ( 14 голосов )</td>\n",
       "    </tr>\n",
       "    <tr>\n",
       "      <th>4</th>\n",
       "      <td>Андреев Михаил Юрьевич</td>\n",
       "      <td>NaN</td>\n",
       "      <td>Кафедра высшей математики</td>\n",
       "      <td>кандидат физико-математических наук</td>\n",
       "      <td>3.46 ( 13 голосов )</td>\n",
       "      <td>3.5 ( 12 голосов )</td>\n",
       "      <td>3.73 ( 15 голосов )</td>\n",
       "      <td>3.47 ( 15 голосов )</td>\n",
       "      <td>3.69 ( 13 голосов )</td>\n",
       "    </tr>\n",
       "  </tbody>\n",
       "</table>\n",
       "</div>"
      ],
      "text/plain": [
       "                      full_name       birth_day                teach_place  \\\n",
       "0  Агаханов Назар Хангельдыевич    25 июня 1954  Кафедра высшей математики   \n",
       "1       Агаханова Яна Сергеевна             NaN  Кафедра высшей математики   \n",
       "2    Алексеев Василий Антонович             NaN  Кафедра высшей математики   \n",
       "3   Амосов Григорий Геннадьевич  27 ноября 1972  Кафедра высшей математики   \n",
       "4        Андреев Михаил Юрьевич             NaN  Кафедра высшей математики   \n",
       "\n",
       "                                       degree            knowledge  \\\n",
       "0  Кандидат физико-математических наук (1988)    4.86 ( 51 голос )   \n",
       "1  Кандидат физико-математических наук (2007)   4.51 ( 53 голоса )   \n",
       "2                                         NaN   4.67 ( 6 голосов )   \n",
       "3           Доктор физико-математических наук  4.42 ( 12 голосов )   \n",
       "4         кандидат физико-математических наук  3.46 ( 13 голосов )   \n",
       "\n",
       "        teaching_skill    commication_skill            easy_exam  \\\n",
       "0  4.77 ( 48 голосов )   4.79 ( 52 голоса )  4.25 ( 48 голосов )   \n",
       "1  4.63 ( 49 голосов )  4.85 ( 60 голосов )   4.81 ( 63 голоса )   \n",
       "2   4.33 ( 6 голосов )    4.5 ( 6 голосов )   4.17 ( 6 голосов )   \n",
       "3  3.42 ( 12 голосов )  4.33 ( 15 голосов )  4.44 ( 16 голосов )   \n",
       "4   3.5 ( 12 голосов )  3.73 ( 15 голосов )  3.47 ( 15 голосов )   \n",
       "\n",
       "         overall_score  \n",
       "0   4.79 ( 53 голоса )  \n",
       "1   4.81 ( 54 голоса )  \n",
       "2   4.67 ( 6 голосов )  \n",
       "3     4 ( 14 голосов )  \n",
       "4  3.69 ( 13 голосов )  "
      ]
     },
     "execution_count": 142,
     "metadata": {},
     "output_type": "execute_result"
    }
   ],
   "source": [
    "# Смотрим, что вышло\n",
    "df.head()"
   ]
  },
  {
   "cell_type": "code",
   "execution_count": 147,
   "metadata": {
    "ExecuteTime": {
     "end_time": "2021-12-14T11:21:28.342316Z",
     "start_time": "2021-12-14T11:21:28.326367Z"
    }
   },
   "outputs": [],
   "source": [
    "# Не записываем индексы, выбираем кодировку, которая поддерживает русский\n",
    "df.to_csv('hw2.csv', index=False, encoding='windows-1251')"
   ]
  },
  {
   "cell_type": "code",
   "execution_count": null,
   "metadata": {},
   "outputs": [],
   "source": []
  },
  {
   "cell_type": "code",
   "execution_count": null,
   "metadata": {},
   "outputs": [],
   "source": []
  },
  {
   "cell_type": "code",
   "execution_count": null,
   "metadata": {},
   "outputs": [],
   "source": []
  },
  {
   "cell_type": "code",
   "execution_count": null,
   "metadata": {},
   "outputs": [],
   "source": []
  },
  {
   "cell_type": "code",
   "execution_count": null,
   "metadata": {},
   "outputs": [],
   "source": []
  },
  {
   "cell_type": "markdown",
   "metadata": {},
   "source": [
    "# Возможный алгоритм обхода для сбора данных:"
   ]
  },
  {
   "cell_type": "code",
   "execution_count": null,
   "metadata": {},
   "outputs": [],
   "source": [
    "# 0 - Открываем с помощью Selenium клавную страницу вики-Физтех- http://wikimipt.org/wiki/   \n",
    "# 1 - Получаем список кафедр с главной страницу вики-Физтех    \n",
    "# Обходя список кафедр, \"проваливаемся\" в каждую страницу кафедру кликом по названию кафедры\n",
    "#     2 - Получаем список преподавателей\n",
    "#         Обходя список преподавателей \"Проваливаемся\" на страницу преподавателя по ФИО преподавателя\n",
    "#             3 - Получаем табличку данных с характеристмиками преподавателями и прочу необходимую информацию. \n",
    "#             Записываем в pandas dataframe\n",
    "# Сохраняем данные в .csv файл"
   ]
  },
  {
   "cell_type": "code",
   "execution_count": null,
   "metadata": {},
   "outputs": [],
   "source": []
  },
  {
   "cell_type": "markdown",
   "metadata": {},
   "source": [
    "# Вспомогательные элементы для майнинга данных"
   ]
  },
  {
   "cell_type": "markdown",
   "metadata": {},
   "source": [
    "* Библиотека `Selenium`: https://selenium-python.readthedocs.io/\n",
    "\n",
    "Полезные методы и рекомендации:\n",
    "    \n",
    "* `element = browser.find_elements_by_*что угодно*()` # Поиск элемента на странице\n",
    "* `element.click()` # Кликнуть по элементу (провалится по ссылке / расскрыть банер)\n",
    "* `browser.back()` # Вернуться назад \n",
    "* `pd.read_html()` # Способ загрузить таблицку из html сразу в Pandas\n",
    "* Спрашивать в чате или гуглить"
   ]
  },
  {
   "cell_type": "code",
   "execution_count": null,
   "metadata": {},
   "outputs": [],
   "source": []
  }
 ],
 "metadata": {
  "kernelspec": {
   "display_name": "Python 3",
   "language": "python",
   "name": "python3"
  },
  "language_info": {
   "codemirror_mode": {
    "name": "ipython",
    "version": 3
   },
   "file_extension": ".py",
   "mimetype": "text/x-python",
   "name": "python",
   "nbconvert_exporter": "python",
   "pygments_lexer": "ipython3",
   "version": "3.8.8"
  },
  "toc": {
   "base_numbering": 1,
   "nav_menu": {},
   "number_sections": true,
   "sideBar": true,
   "skip_h1_title": false,
   "title_cell": "Table of Contents",
   "title_sidebar": "Contents",
   "toc_cell": false,
   "toc_position": {},
   "toc_section_display": true,
   "toc_window_display": false
  },
  "varInspector": {
   "cols": {
    "lenName": 16,
    "lenType": 16,
    "lenVar": 40
   },
   "kernels_config": {
    "python": {
     "delete_cmd_postfix": "",
     "delete_cmd_prefix": "del ",
     "library": "var_list.py",
     "varRefreshCmd": "print(var_dic_list())"
    },
    "r": {
     "delete_cmd_postfix": ") ",
     "delete_cmd_prefix": "rm(",
     "library": "var_list.r",
     "varRefreshCmd": "cat(var_dic_list()) "
    }
   },
   "types_to_exclude": [
    "module",
    "function",
    "builtin_function_or_method",
    "instance",
    "_Feature"
   ],
   "window_display": false
  }
 },
 "nbformat": 4,
 "nbformat_minor": 4
}
